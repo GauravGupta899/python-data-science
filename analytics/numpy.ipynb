{
 "cells": [
  {
   "cell_type": "code",
   "execution_count": 1,
   "metadata": {},
   "outputs": [],
   "source": [
    "import numpy as np\n"
   ]
  },
  {
   "cell_type": "markdown",
   "metadata": {},
   "source": [
    "create "
   ]
  },
  {
   "cell_type": "code",
   "execution_count": 2,
   "metadata": {},
   "outputs": [
    {
     "name": "stdout",
     "output_type": "stream",
     "text": [
      "[2 3 4 5 6]\n",
      "<class 'numpy.ndarray'>\n"
     ]
    }
   ],
   "source": [
    "x1 = np.array([2,3,4,5,6])\n",
    "print(x1)\n",
    "print(type(x1))"
   ]
  },
  {
   "cell_type": "code",
   "execution_count": 3,
   "metadata": {},
   "outputs": [
    {
     "name": "stdout",
     "output_type": "stream",
     "text": [
      "[[2 3 4 5 6]\n",
      " [2 5 6 7 8]]\n",
      "<class 'numpy.ndarray'>\n"
     ]
    }
   ],
   "source": [
    "x2 = np.array([[2,3,4,5,6],\n",
    "               [2,5,6,7,8]\n",
    "])\n",
    "print(x2)\n",
    "print(type(x2))"
   ]
  },
  {
   "cell_type": "code",
   "execution_count": 4,
   "metadata": {},
   "outputs": [
    {
     "name": "stdout",
     "output_type": "stream",
     "text": [
      "[[[2 3]\n",
      "  [3 4]]\n",
      "\n",
      " [[3 4]\n",
      "  [4 8]]]\n"
     ]
    }
   ],
   "source": [
    "x3 =np.array([[[2,3],[3,4]],\n",
    "             [[3,4],[4,8]]])\n",
    "print(x3)"
   ]
  },
  {
   "cell_type": "markdown",
   "metadata": {},
   "source": [
    "methods to create matrix\n",
    "1d\n",
    "- arange() - start,stop,step\n",
    "- 'linspace() - start, stop, num_of_elements\n",
    "\n",
    "*2d\n",
    "-random.randint() - low,high,size\n"
   ]
  },
  {
   "cell_type": "code",
   "execution_count": 5,
   "metadata": {},
   "outputs": [
    {
     "name": "stdout",
     "output_type": "stream",
     "text": [
      "[10 11 12 13 14 15 16 17 18 19 20 21 22 23 24 25 26 27 28 29 30 31 32 33\n",
      " 34 35 36 37 38 39]\n",
      "(30,)\n"
     ]
    }
   ],
   "source": [
    "a = np.arange(10,40)\n",
    "print(a)\n",
    "print(a.shape)\n"
   ]
  },
  {
   "cell_type": "code",
   "execution_count": 6,
   "metadata": {},
   "outputs": [
    {
     "name": "stdout",
     "output_type": "stream",
     "text": [
      "[10.         10.1010101  10.2020202  10.3030303  10.4040404  10.50505051\n",
      " 10.60606061 10.70707071 10.80808081 10.90909091 11.01010101 11.11111111\n",
      " 11.21212121 11.31313131 11.41414141 11.51515152 11.61616162 11.71717172\n",
      " 11.81818182 11.91919192 12.02020202 12.12121212 12.22222222 12.32323232\n",
      " 12.42424242 12.52525253 12.62626263 12.72727273 12.82828283 12.92929293\n",
      " 13.03030303 13.13131313 13.23232323 13.33333333 13.43434343 13.53535354\n",
      " 13.63636364 13.73737374 13.83838384 13.93939394 14.04040404 14.14141414\n",
      " 14.24242424 14.34343434 14.44444444 14.54545455 14.64646465 14.74747475\n",
      " 14.84848485 14.94949495 15.05050505 15.15151515 15.25252525 15.35353535\n",
      " 15.45454545 15.55555556 15.65656566 15.75757576 15.85858586 15.95959596\n",
      " 16.06060606 16.16161616 16.26262626 16.36363636 16.46464646 16.56565657\n",
      " 16.66666667 16.76767677 16.86868687 16.96969697 17.07070707 17.17171717\n",
      " 17.27272727 17.37373737 17.47474747 17.57575758 17.67676768 17.77777778\n",
      " 17.87878788 17.97979798 18.08080808 18.18181818 18.28282828 18.38383838\n",
      " 18.48484848 18.58585859 18.68686869 18.78787879 18.88888889 18.98989899\n",
      " 19.09090909 19.19191919 19.29292929 19.39393939 19.49494949 19.5959596\n",
      " 19.6969697  19.7979798  19.8989899  20.        ]\n"
     ]
    }
   ],
   "source": [
    "b = np.linspace(10,20,100)\n",
    "print(b)"
   ]
  },
  {
   "cell_type": "code",
   "execution_count": 7,
   "metadata": {},
   "outputs": [
    {
     "name": "stdout",
     "output_type": "stream",
     "text": [
      "[[30 13 52 69 71 78]\n",
      " [88 74 27  2 28 98]\n",
      " [35 25 39 30 96 35]\n",
      " [70 89 14  8 15 -1]\n",
      " [20 -3 16 89 25 70]]\n"
     ]
    }
   ],
   "source": [
    "C = np.random.randint(-10,100,(5,6))\n",
    "print(C)"
   ]
  },
  {
   "cell_type": "code",
   "execution_count": 8,
   "metadata": {},
   "outputs": [
    {
     "name": "stdout",
     "output_type": "stream",
     "text": [
      "[[2 4 6]\n",
      " [1 3 5]]\n",
      "[[1 2]\n",
      " [5 1]\n",
      " [3 2]]\n",
      "[[40 20]\n",
      " [31 15]]\n"
     ]
    }
   ],
   "source": [
    "n1 = np.array([[2,4,6],[1,3,5]])\n",
    "n2 = np.array([[1,2],[5,1],[3,2]])\n",
    "\n",
    "print(n1,n2,sep='\\n')\n",
    "print(n1.dot(n2))\n"
   ]
  },
  {
   "cell_type": "markdown",
   "metadata": {},
   "source": [
    "propertics"
   ]
  },
  {
   "cell_type": "code",
   "execution_count": 9,
   "metadata": {},
   "outputs": [
    {
     "name": "stdout",
     "output_type": "stream",
     "text": [
      "[10 11 12 13 14 15 16 17 18 19 20 21 22 23 24 25 26 27 28 29 30 31 32 33\n",
      " 34 35 36 37 38 39]\n",
      "size\n",
      "30\n",
      "(30,)\n",
      "shape\n",
      "dimension\n",
      "1\n",
      "dtype\n",
      "int32\n"
     ]
    }
   ],
   "source": [
    "print(a)\n",
    "print('size')\n",
    "print(a.size)\n",
    "print(a.shape)\n",
    "print('shape')\n",
    "print('dimension')\n",
    "print(a.ndim)\n",
    "print('dtype')\n",
    "print(a.dtype)"
   ]
  },
  {
   "cell_type": "code",
   "execution_count": 10,
   "metadata": {},
   "outputs": [
    {
     "name": "stdout",
     "output_type": "stream",
     "text": [
      "[[55 58 13 70 70]\n",
      " [56 50 89 94 96]\n",
      " [48 53 37 91 44]\n",
      " [79 36 30 67 76]]\n",
      "[[55 58 13 70]\n",
      " [70 56 50 89]\n",
      " [94 96 48 53]\n",
      " [37 91 44 79]\n",
      " [36 30 67 76]]\n",
      "[[55 58 13 70 70 56 50 89 94 96 48 53 37 91 44 79 36 30 67 76]]\n",
      "[[55]\n",
      " [58]\n",
      " [13]\n",
      " [70]\n",
      " [70]\n",
      " [56]\n",
      " [50]\n",
      " [89]\n",
      " [94]\n",
      " [96]\n",
      " [48]\n",
      " [53]\n",
      " [37]\n",
      " [91]\n",
      " [44]\n",
      " [79]\n",
      " [36]\n",
      " [30]\n",
      " [67]\n",
      " [76]]\n",
      "[[55 58 13 70 70 56 50 89 94 96]\n",
      " [48 53 37 91 44 79 36 30 67 76]]\n",
      "[[55 58]\n",
      " [13 70]\n",
      " [70 56]\n",
      " [50 89]\n",
      " [94 96]\n",
      " [48 53]\n",
      " [37 91]\n",
      " [44 79]\n",
      " [36 30]\n",
      " [67 76]]\n"
     ]
    }
   ],
   "source": [
    "x = np.random.randint(10,99,(4,5))\n",
    "print(x)\n",
    "print(x.reshape(5,4))\n",
    "print(x.reshape(1,20))\n",
    "print(x.reshape(20,1))\n",
    "print(x.reshape(2,10))\n",
    "print(x.reshape(10,2))"
   ]
  },
  {
   "cell_type": "code",
   "execution_count": 11,
   "metadata": {},
   "outputs": [
    {
     "name": "stdout",
     "output_type": "stream",
     "text": [
      "[55 58 13 70 70 56 50 89 94 96 48 53 37 91 44 79 36 30 67 76]\n"
     ]
    }
   ],
   "source": [
    "print(x.flatten())"
   ]
  },
  {
   "cell_type": "code",
   "execution_count": 12,
   "metadata": {},
   "outputs": [
    {
     "name": "stdout",
     "output_type": "stream",
     "text": [
      "[[56 98]\n",
      " [60 49]\n",
      " [71 66]\n",
      " [77 92]\n",
      " [18 93]]\n",
      "[[56 98 60 49 71]\n",
      " [66 77 92 18 93]]\n"
     ]
    }
   ],
   "source": [
    "y = np.random.randint(10,99,(5,2))\n",
    "print(y)\n",
    "print(y.reshape(2,5))"
   ]
  },
  {
   "cell_type": "code",
   "execution_count": 13,
   "metadata": {},
   "outputs": [
    {
     "data": {
      "text/plain": [
       "array([[56, 60, 71, 77, 18],\n",
       "       [98, 49, 66, 92, 93]])"
      ]
     },
     "execution_count": 13,
     "metadata": {},
     "output_type": "execute_result"
    }
   ],
   "source": [
    "y.T"
   ]
  },
  {
   "cell_type": "markdown",
   "metadata": {},
   "source": [
    "maths and stats"
   ]
  },
  {
   "cell_type": "code",
   "execution_count": 14,
   "metadata": {},
   "outputs": [
    {
     "name": "stdout",
     "output_type": "stream",
     "text": [
      "[[3 6]\n",
      " [6 4]]\n",
      "[[ 1  2]\n",
      " [-4  2]]\n",
      "[[2 8]\n",
      " [5 3]]\n",
      "[[2.  2. ]\n",
      " [0.2 3. ]]\n",
      "[[22  8]\n",
      " [16  5]]\n"
     ]
    }
   ],
   "source": [
    "a = np.array([\n",
    "    [2,4],\n",
    "    [1,3]\n",
    "])\n",
    "b = np.array([\n",
    "    [1,2],\n",
    "    [5,1]\n",
    "])\n",
    "\n",
    "#addition\n",
    "print(a+b)\n",
    "#subtraction\n",
    "print(a-b)\n",
    "#multiplication\n",
    "print(a*b)\n",
    "#division\n",
    "print(a/b)\n",
    "#matrix maltiplication\n",
    "print(a@b)"
   ]
  },
  {
   "cell_type": "code",
   "execution_count": 15,
   "metadata": {},
   "outputs": [
    {
     "name": "stdout",
     "output_type": "stream",
     "text": [
      "[[56 98]\n",
      " [60 49]\n",
      " [71 66]\n",
      " [77 92]\n",
      " [18 93]]\n",
      "680\n",
      "[282 398]\n",
      "[154 109 137 169 111]\n",
      "98 18\n",
      "1 8\n"
     ]
    }
   ],
   "source": [
    "print(y)\n",
    "print(y.sum())#summation of each element\n",
    "print(y.sum(axis=0))#summation of each column\n",
    "print(y.sum(axis=1))#summation of each row\n",
    "\n",
    "# min and max \n",
    "print(y.max(),y.min())\n",
    "#argmax and argmin -> imformation about the index of the max and min\n",
    "print(y.argmax(),y.argmin())"
   ]
  },
  {
   "cell_type": "markdown",
   "metadata": {},
   "source": [
    "slicing\n",
    "* 1 D array\n",
    "x[start,stop,step]\n",
    "\n",
    "* 2D array\n",
    "x[rowstart:RowStop:RowStep ,colstart:colStop:colStep]"
   ]
  },
  {
   "cell_type": "code",
   "execution_count": 16,
   "metadata": {},
   "outputs": [
    {
     "name": "stdout",
     "output_type": "stream",
     "text": [
      "[[19 74 73 47 78 82 92 12 33 65]\n",
      " [66 52 22 26 86 51 16 83 70 31]\n",
      " [26 84 28 53 69 20 20 45 69 22]\n",
      " [37 73 49 20 62 24 30 59 85 32]\n",
      " [89 52 59 62 29 75 16 71 10 60]\n",
      " [86 83 64 30 47 90 45 58 67 81]\n",
      " [61 98 82 63 38 16 60 85 93 61]\n",
      " [13 86 21 16 23 12 49 35 71 22]\n",
      " [87 16 99 91 88 40 61 54 34 31]\n",
      " [61 38 17 67 40 82 25 98 50 24]]\n"
     ]
    }
   ],
   "source": [
    "x = np.random.randint(10,100,(10,10))\n",
    "print(x)"
   ]
  },
  {
   "cell_type": "code",
   "execution_count": 17,
   "metadata": {},
   "outputs": [
    {
     "data": {
      "text/plain": [
       "24"
      ]
     },
     "execution_count": 17,
     "metadata": {},
     "output_type": "execute_result"
    }
   ],
   "source": [
    "\n",
    "x[-1,-1]"
   ]
  },
  {
   "cell_type": "code",
   "execution_count": 18,
   "metadata": {},
   "outputs": [
    {
     "data": {
      "text/plain": [
       "19"
      ]
     },
     "execution_count": 18,
     "metadata": {},
     "output_type": "execute_result"
    }
   ],
   "source": [
    "x[0,0]"
   ]
  },
  {
   "cell_type": "code",
   "execution_count": 19,
   "metadata": {},
   "outputs": [
    {
     "data": {
      "text/plain": [
       "24"
      ]
     },
     "execution_count": 19,
     "metadata": {},
     "output_type": "execute_result"
    }
   ],
   "source": [
    "x[9,9]"
   ]
  },
  {
   "cell_type": "code",
   "execution_count": 20,
   "metadata": {},
   "outputs": [
    {
     "name": "stdout",
     "output_type": "stream",
     "text": [
      "[19 74 73 47 78 82 92 12 33 65]\n",
      "[61 38 17 67 40 82 25 98 50 24]\n",
      "[19 66 26 37 89 86 61 13 87 61]\n",
      "[65 31 22 32 60 81 61 22 31 24]\n",
      "[74 52 84 73 52]\n",
      "[30 63 16 91 67]\n",
      "[[19 74 73]\n",
      " [66 52 22]\n",
      " [26 84 28]\n",
      " [37 73 49]\n",
      " [89 52 59]\n",
      " [86 83 64]\n",
      " [61 98 82]\n",
      " [13 86 21]\n",
      " [87 16 99]\n",
      " [61 38 17]]\n",
      "[[12 33 65]\n",
      " [83 70 31]\n",
      " [45 69 22]\n",
      " [59 85 32]\n",
      " [71 10 60]\n",
      " [58 67 81]\n",
      " [85 93 61]\n",
      " [35 71 22]\n",
      " [54 34 31]\n",
      " [98 50 24]]\n"
     ]
    }
   ],
   "source": [
    "print(x[0]) #first row\n",
    "\n",
    "print(x[-1])# last row\n",
    "print(x[:,0])# first column\n",
    "print(x[:,-1])# last column\n",
    "print(x[:5,1])#first 5 row of the second column\n",
    "\n",
    "print(x[-5:,3])#first 5 row of the fourth column\n",
    "print(x[:,:3])#first 3 column\n",
    "print(x[:,-3:])#last  3 column\n"
   ]
  },
  {
   "cell_type": "code",
   "execution_count": 21,
   "metadata": {},
   "outputs": [
    {
     "name": "stdout",
     "output_type": "stream",
     "text": [
      "(array([0], dtype=int64), array([9], dtype=int64))\n"
     ]
    }
   ],
   "source": [
    "#find index\n",
    "print(np.where(x==65))"
   ]
  },
  {
   "cell_type": "code",
   "execution_count": 22,
   "metadata": {},
   "outputs": [
    {
     "name": "stdout",
     "output_type": "stream",
     "text": [
      "1\n"
     ]
    }
   ],
   "source": [
    "#count\n",
    "print(np.count_nonzero(x==65))"
   ]
  },
  {
   "cell_type": "code",
   "execution_count": 23,
   "metadata": {},
   "outputs": [
    {
     "name": "stdout",
     "output_type": "stream",
     "text": [
      "[[0. 0. 0. 0.]\n",
      " [0. 0. 0. 0.]\n",
      " [0. 0. 0. 0.]]\n",
      "[0. 0. 0. 0.]\n"
     ]
    }
   ],
   "source": [
    "import numpy as np\n",
    "ar_zero = np.zeros(4)\n",
    "ar_zero1 = np.zeros((3,4))\n",
    "print(ar_zero1)\n",
    "print (ar_zero)"
   ]
  },
  {
   "cell_type": "code",
   "execution_count": 24,
   "metadata": {},
   "outputs": [
    {
     "name": "stdout",
     "output_type": "stream",
     "text": [
      "[1. 1. 1. 1. 1.]\n"
     ]
    }
   ],
   "source": [
    "ar_one = np.ones(5)\n",
    "print(ar_one)"
   ]
  },
  {
   "cell_type": "code",
   "execution_count": 25,
   "metadata": {},
   "outputs": [
    {
     "name": "stdout",
     "output_type": "stream",
     "text": [
      "[1. 1. 1. 1. 1.]\n"
     ]
    }
   ],
   "source": [
    "ar_empty = np.empty(5)\n",
    "print(ar_empty)"
   ]
  },
  {
   "cell_type": "code",
   "execution_count": 26,
   "metadata": {},
   "outputs": [
    {
     "name": "stdout",
     "output_type": "stream",
     "text": [
      "[0 1 2 3 4]\n",
      "[4 5 6 7 8 9]\n"
     ]
    }
   ],
   "source": [
    "ar_np = np.arange(5)\n",
    "ar_np1 = np.arange(4,10)\n",
    "print(ar_np)\n",
    "print(ar_np1)"
   ]
  },
  {
   "cell_type": "code",
   "execution_count": 27,
   "metadata": {},
   "outputs": [
    {
     "name": "stdout",
     "output_type": "stream",
     "text": [
      "[[1. 0. 0. 0. 0.]\n",
      " [0. 1. 0. 0. 0.]\n",
      " [0. 0. 1. 0. 0.]\n",
      " [0. 0. 0. 1. 0.]\n",
      " [0. 0. 0. 0. 1.]]\n"
     ]
    }
   ],
   "source": [
    "ar_dai =np.eye(5)\n",
    "print(ar_dai)"
   ]
  },
  {
   "cell_type": "code",
   "execution_count": 28,
   "metadata": {},
   "outputs": [
    {
     "name": "stdout",
     "output_type": "stream",
     "text": [
      "[ 0.  5. 10. 15. 20.]\n"
     ]
    }
   ],
   "source": [
    "ar_lin = np.linspace(0,20,5)\n",
    "print(ar_lin)"
   ]
  },
  {
   "cell_type": "code",
   "execution_count": 29,
   "metadata": {},
   "outputs": [
    {
     "name": "stdout",
     "output_type": "stream",
     "text": [
      "[0.87545039 0.75438938 0.0071175  0.40446791 0.31649844]\n"
     ]
    }
   ],
   "source": [
    "var = np.random.rand(5)\n",
    "print(var)"
   ]
  },
  {
   "cell_type": "code",
   "execution_count": 30,
   "metadata": {},
   "outputs": [
    {
     "name": "stdout",
     "output_type": "stream",
     "text": [
      "[[0.72504753 0.66505941]\n",
      " [0.8248565  0.60400815]\n",
      " [0.70087375 0.07147904]\n",
      " [0.14683844 0.14600632]]\n"
     ]
    }
   ],
   "source": [
    "var1 = np.random.rand(4,2)\n",
    "print(var1)"
   ]
  },
  {
   "cell_type": "code",
   "execution_count": 31,
   "metadata": {},
   "outputs": [
    {
     "name": "stdout",
     "output_type": "stream",
     "text": [
      "[-0.48106234 -0.15224308  1.23567604  2.22993346]\n"
     ]
    }
   ],
   "source": [
    "var2 = np.random.randn(4)\n",
    "print(var2)"
   ]
  },
  {
   "cell_type": "code",
   "execution_count": 32,
   "metadata": {},
   "outputs": [
    {
     "name": "stdout",
     "output_type": "stream",
     "text": [
      "[0.85045274 0.54665945 0.23950601 0.8226726 ]\n"
     ]
    }
   ],
   "source": [
    "var3 = np.random.ranf(4)\n",
    "print(var3)"
   ]
  },
  {
   "cell_type": "code",
   "execution_count": 33,
   "metadata": {},
   "outputs": [
    {
     "name": "stdout",
     "output_type": "stream",
     "text": [
      "[2 4 5 4]\n"
     ]
    }
   ],
   "source": [
    "var4 = np.random.randint(2,6,4)\n",
    "print(var4)"
   ]
  },
  {
   "cell_type": "code",
   "execution_count": 41,
   "metadata": {},
   "outputs": [
    {
     "name": "stdout",
     "output_type": "stream",
     "text": [
      "min: 0 3\n",
      "max: 9 6\n"
     ]
    }
   ],
   "source": [
    "var = np.array([1,2,7,0,5,6,9])\n",
    "print(\"min:\",np.min(var),np.argmin(var))\n",
    "print(\"max:\",max(var),np.argmax(var))\n"
   ]
  },
  {
   "cell_type": "code",
   "execution_count": null,
   "metadata": {},
   "outputs": [],
   "source": []
  },
  {
   "cell_type": "code",
   "execution_count": null,
   "metadata": {},
   "outputs": [],
   "source": []
  }
 ],
 "metadata": {
  "kernelspec": {
   "display_name": "Python 3",
   "language": "python",
   "name": "python3"
  },
  "language_info": {
   "codemirror_mode": {
    "name": "ipython",
    "version": 3
   },
   "file_extension": ".py",
   "mimetype": "text/x-python",
   "name": "python",
   "nbconvert_exporter": "python",
   "pygments_lexer": "ipython3",
   "version": "3.11.5"
  }
 },
 "nbformat": 4,
 "nbformat_minor": 2
}
