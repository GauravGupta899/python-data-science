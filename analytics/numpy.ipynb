{
 "cells": [
  {
   "cell_type": "code",
   "execution_count": 1,
   "metadata": {},
   "outputs": [],
   "source": [
    "import numpy as np\n"
   ]
  },
  {
   "cell_type": "markdown",
   "metadata": {},
   "source": [
    "create "
   ]
  },
  {
   "cell_type": "code",
   "execution_count": 2,
   "metadata": {},
   "outputs": [
    {
     "name": "stdout",
     "output_type": "stream",
     "text": [
      "[2 3 4 5 6]\n",
      "<class 'numpy.ndarray'>\n"
     ]
    }
   ],
   "source": [
    "x1 = np.array([2,3,4,5,6])\n",
    "print(x1)\n",
    "print(type(x1))"
   ]
  },
  {
   "cell_type": "code",
   "execution_count": 3,
   "metadata": {},
   "outputs": [
    {
     "name": "stdout",
     "output_type": "stream",
     "text": [
      "[[2 3 4 5 6]\n",
      " [2 5 6 7 8]]\n",
      "<class 'numpy.ndarray'>\n"
     ]
    }
   ],
   "source": [
    "x2 = np.array([[2,3,4,5,6],\n",
    "               [2,5,6,7,8]\n",
    "])\n",
    "print(x2)\n",
    "print(type(x2))"
   ]
  },
  {
   "cell_type": "code",
   "execution_count": 4,
   "metadata": {},
   "outputs": [
    {
     "name": "stdout",
     "output_type": "stream",
     "text": [
      "[[[2 3]\n",
      "  [3 4]]\n",
      "\n",
      " [[3 4]\n",
      "  [4 8]]]\n"
     ]
    }
   ],
   "source": [
    "x3 =np.array([[[2,3],[3,4]],\n",
    "             [[3,4],[4,8]]])\n",
    "print(x3)"
   ]
  },
  {
   "cell_type": "markdown",
   "metadata": {},
   "source": [
    "methods to create matrix\n",
    "1d\n",
    "- arange() - start,stop,step\n",
    "- 'linspace() - start, stop, num_of_elements\n",
    "\n",
    "*2d\n",
    "-random.randint() - low,high,size\n"
   ]
  },
  {
   "cell_type": "code",
   "execution_count": 5,
   "metadata": {},
   "outputs": [
    {
     "name": "stdout",
     "output_type": "stream",
     "text": [
      "[10 11 12 13 14 15 16 17 18 19 20 21 22 23 24 25 26 27 28 29 30 31 32 33\n",
      " 34 35 36 37 38 39]\n",
      "(30,)\n"
     ]
    }
   ],
   "source": [
    "a = np.arange(10,40)\n",
    "print(a)\n",
    "print(a.shape)\n"
   ]
  },
  {
   "cell_type": "code",
   "execution_count": 6,
   "metadata": {},
   "outputs": [
    {
     "name": "stdout",
     "output_type": "stream",
     "text": [
      "[10.         10.1010101  10.2020202  10.3030303  10.4040404  10.50505051\n",
      " 10.60606061 10.70707071 10.80808081 10.90909091 11.01010101 11.11111111\n",
      " 11.21212121 11.31313131 11.41414141 11.51515152 11.61616162 11.71717172\n",
      " 11.81818182 11.91919192 12.02020202 12.12121212 12.22222222 12.32323232\n",
      " 12.42424242 12.52525253 12.62626263 12.72727273 12.82828283 12.92929293\n",
      " 13.03030303 13.13131313 13.23232323 13.33333333 13.43434343 13.53535354\n",
      " 13.63636364 13.73737374 13.83838384 13.93939394 14.04040404 14.14141414\n",
      " 14.24242424 14.34343434 14.44444444 14.54545455 14.64646465 14.74747475\n",
      " 14.84848485 14.94949495 15.05050505 15.15151515 15.25252525 15.35353535\n",
      " 15.45454545 15.55555556 15.65656566 15.75757576 15.85858586 15.95959596\n",
      " 16.06060606 16.16161616 16.26262626 16.36363636 16.46464646 16.56565657\n",
      " 16.66666667 16.76767677 16.86868687 16.96969697 17.07070707 17.17171717\n",
      " 17.27272727 17.37373737 17.47474747 17.57575758 17.67676768 17.77777778\n",
      " 17.87878788 17.97979798 18.08080808 18.18181818 18.28282828 18.38383838\n",
      " 18.48484848 18.58585859 18.68686869 18.78787879 18.88888889 18.98989899\n",
      " 19.09090909 19.19191919 19.29292929 19.39393939 19.49494949 19.5959596\n",
      " 19.6969697  19.7979798  19.8989899  20.        ]\n"
     ]
    }
   ],
   "source": [
    "b = np.linspace(10,20,100)\n",
    "print(b)"
   ]
  },
  {
   "cell_type": "code",
   "execution_count": 7,
   "metadata": {},
   "outputs": [
    {
     "name": "stdout",
     "output_type": "stream",
     "text": [
      "[[45 69 42 99 98 78]\n",
      " [96 27 88 65 48 15]\n",
      " [34 23 27 14 18 32]\n",
      " [ 3 33 21 34 40 85]\n",
      " [48 52 15 83 71  7]]\n"
     ]
    }
   ],
   "source": [
    "C = np.random.randint(-10,100,(5,6))\n",
    "print(C)"
   ]
  },
  {
   "cell_type": "code",
   "execution_count": 8,
   "metadata": {},
   "outputs": [
    {
     "name": "stdout",
     "output_type": "stream",
     "text": [
      "[[2 4 6]\n",
      " [1 3 5]]\n",
      "[[1 2]\n",
      " [5 1]\n",
      " [3 2]]\n",
      "[[40 20]\n",
      " [31 15]]\n"
     ]
    }
   ],
   "source": [
    "n1 = np.array([[2,4,6],[1,3,5]])\n",
    "n2 = np.array([[1,2],[5,1],[3,2]])\n",
    "\n",
    "print(n1,n2,sep='\\n')\n",
    "print(n1.dot(n2))\n"
   ]
  },
  {
   "cell_type": "markdown",
   "metadata": {},
   "source": [
    "propertics"
   ]
  },
  {
   "cell_type": "code",
   "execution_count": 10,
   "metadata": {},
   "outputs": [
    {
     "name": "stdout",
     "output_type": "stream",
     "text": [
      "[10 11 12 13 14 15 16 17 18 19 20 21 22 23 24 25 26 27 28 29 30 31 32 33\n",
      " 34 35 36 37 38 39]\n",
      "size\n",
      "30\n",
      "(30,)\n",
      "shape\n",
      "dimension\n",
      "1\n",
      "dtype\n",
      "int32\n"
     ]
    }
   ],
   "source": [
    "print(a)\n",
    "print('size')\n",
    "print(a.size)\n",
    "print(a.shape)\n",
    "print('shape')\n",
    "print('dimension')\n",
    "print(a.ndim)\n",
    "print('dtype')\n",
    "print(a.dtype)"
   ]
  },
  {
   "cell_type": "code",
   "execution_count": 11,
   "metadata": {},
   "outputs": [
    {
     "name": "stdout",
     "output_type": "stream",
     "text": [
      "[[75 73 11 54 37]\n",
      " [39 16 89 55 49]\n",
      " [42 93 26 88 32]\n",
      " [86 45 12 77 74]]\n",
      "[[75 73 11 54]\n",
      " [37 39 16 89]\n",
      " [55 49 42 93]\n",
      " [26 88 32 86]\n",
      " [45 12 77 74]]\n",
      "[[75 73 11 54 37 39 16 89 55 49 42 93 26 88 32 86 45 12 77 74]]\n",
      "[[75]\n",
      " [73]\n",
      " [11]\n",
      " [54]\n",
      " [37]\n",
      " [39]\n",
      " [16]\n",
      " [89]\n",
      " [55]\n",
      " [49]\n",
      " [42]\n",
      " [93]\n",
      " [26]\n",
      " [88]\n",
      " [32]\n",
      " [86]\n",
      " [45]\n",
      " [12]\n",
      " [77]\n",
      " [74]]\n",
      "[[75 73 11 54 37 39 16 89 55 49]\n",
      " [42 93 26 88 32 86 45 12 77 74]]\n",
      "[[75 73]\n",
      " [11 54]\n",
      " [37 39]\n",
      " [16 89]\n",
      " [55 49]\n",
      " [42 93]\n",
      " [26 88]\n",
      " [32 86]\n",
      " [45 12]\n",
      " [77 74]]\n"
     ]
    }
   ],
   "source": [
    "x = np.random.randint(10,99,(4,5))\n",
    "print(x)\n",
    "print(x.reshape(5,4))\n",
    "print(x.reshape(1,20))\n",
    "print(x.reshape(20,1))\n",
    "print(x.reshape(2,10))\n",
    "print(x.reshape(10,2))"
   ]
  },
  {
   "cell_type": "code",
   "execution_count": 12,
   "metadata": {},
   "outputs": [
    {
     "name": "stdout",
     "output_type": "stream",
     "text": [
      "[75 73 11 54 37 39 16 89 55 49 42 93 26 88 32 86 45 12 77 74]\n"
     ]
    }
   ],
   "source": [
    "print(x.flatten())"
   ]
  },
  {
   "cell_type": "code",
   "execution_count": 16,
   "metadata": {},
   "outputs": [
    {
     "name": "stdout",
     "output_type": "stream",
     "text": [
      "[[44 79]\n",
      " [91 48]\n",
      " [94 26]\n",
      " [12 55]\n",
      " [49 82]]\n",
      "[[44 79 91 48 94]\n",
      " [26 12 55 49 82]]\n"
     ]
    }
   ],
   "source": [
    "y = np.random.randint(10,99,(5,2))\n",
    "print(y)\n",
    "print(y.reshape(2,5))"
   ]
  },
  {
   "cell_type": "code",
   "execution_count": 15,
   "metadata": {},
   "outputs": [
    {
     "data": {
      "text/plain": [
       "array([[39, 17, 22, 87, 38],\n",
       "       [21, 18, 66, 47, 91]])"
      ]
     },
     "execution_count": 15,
     "metadata": {},
     "output_type": "execute_result"
    }
   ],
   "source": [
    "y.T"
   ]
  },
  {
   "cell_type": "markdown",
   "metadata": {},
   "source": [
    "maths and stats"
   ]
  },
  {
   "cell_type": "code",
   "execution_count": 18,
   "metadata": {},
   "outputs": [
    {
     "name": "stdout",
     "output_type": "stream",
     "text": [
      "[[3 6]\n",
      " [6 4]]\n",
      "[[ 1  2]\n",
      " [-4  2]]\n",
      "[[2 8]\n",
      " [5 3]]\n",
      "[[2.  2. ]\n",
      " [0.2 3. ]]\n",
      "[[22  8]\n",
      " [16  5]]\n"
     ]
    }
   ],
   "source": [
    "a = np.array([\n",
    "    [2,4],\n",
    "    [1,3]\n",
    "])\n",
    "b = np.array([\n",
    "    [1,2],\n",
    "    [5,1]\n",
    "])\n",
    "\n",
    "#addition\n",
    "print(a+b)\n",
    "#subtraction\n",
    "print(a-b)\n",
    "#multiplication\n",
    "print(a*b)\n",
    "#division\n",
    "print(a/b)\n",
    "#matrix maltiplication\n",
    "print(a@b)"
   ]
  },
  {
   "cell_type": "code",
   "execution_count": 21,
   "metadata": {},
   "outputs": [
    {
     "name": "stdout",
     "output_type": "stream",
     "text": [
      "[[44 79]\n",
      " [91 48]\n",
      " [94 26]\n",
      " [12 55]\n",
      " [49 82]]\n",
      "580\n",
      "[290 290]\n",
      "[123 139 120  67 131]\n",
      "94 12\n",
      "4 6\n"
     ]
    }
   ],
   "source": [
    "print(y)\n",
    "print(y.sum())#summation of each element\n",
    "print(y.sum(axis=0))#summation of each column\n",
    "print(y.sum(axis=1))#summation of each row\n",
    "\n",
    "# min and max \n",
    "print(y.max(),y.min())\n",
    "#argmax and argmin -> imformation about the index of the max and min\n",
    "print(y.argmax(),y.argmin())"
   ]
  },
  {
   "cell_type": "markdown",
   "metadata": {},
   "source": [
    "slicing\n",
    "* 1 D array\n",
    "x[start,stop,step]\n",
    "\n",
    "* 2D array\n",
    "x[rowstart:RowStop:RowStep ,colstart:colStop:colStep]"
   ]
  },
  {
   "cell_type": "code",
   "execution_count": 22,
   "metadata": {},
   "outputs": [
    {
     "name": "stdout",
     "output_type": "stream",
     "text": [
      "[[66 94 38 51 71 34 61 44 26 47]\n",
      " [73 69 60 37 57 78 91 30 15 97]\n",
      " [30 82 13 32 23 74 79 34 75 37]\n",
      " [78 13 15 25 57 71 97 31 41 90]\n",
      " [88 34 72 33 11 88 46 50 85 84]\n",
      " [64 47 55 52 56 76 23 26 44 40]\n",
      " [93 23 98 83 54 91 61 83 83 88]\n",
      " [78 10 47 31 12 47 22 16 82 68]\n",
      " [38 75 26 88 53 42 79 77 15 56]\n",
      " [18 44 16 29 33 52 64 80 14 88]]\n"
     ]
    }
   ],
   "source": [
    "x = np.random.randint(10,100,(10,10))\n",
    "print(x)"
   ]
  },
  {
   "cell_type": "code",
   "execution_count": 28,
   "metadata": {},
   "outputs": [
    {
     "data": {
      "text/plain": [
       "88"
      ]
     },
     "execution_count": 28,
     "metadata": {},
     "output_type": "execute_result"
    }
   ],
   "source": [
    "\n",
    "x[-1,-1]"
   ]
  },
  {
   "cell_type": "code",
   "execution_count": 29,
   "metadata": {},
   "outputs": [
    {
     "data": {
      "text/plain": [
       "66"
      ]
     },
     "execution_count": 29,
     "metadata": {},
     "output_type": "execute_result"
    }
   ],
   "source": [
    "x[0,0]"
   ]
  },
  {
   "cell_type": "code",
   "execution_count": 31,
   "metadata": {},
   "outputs": [
    {
     "data": {
      "text/plain": [
       "88"
      ]
     },
     "execution_count": 31,
     "metadata": {},
     "output_type": "execute_result"
    }
   ],
   "source": [
    "x[9,9]"
   ]
  },
  {
   "cell_type": "code",
   "execution_count": 35,
   "metadata": {},
   "outputs": [
    {
     "name": "stdout",
     "output_type": "stream",
     "text": [
      "[66 94 38 51 71 34 61 44 26 47]\n",
      "[18 44 16 29 33 52 64 80 14 88]\n",
      "[66 73 30 78 88 64 93 78 38 18]\n",
      "[47 97 37 90 84 40 88 68 56 88]\n",
      "[94 69 82 13 34]\n",
      "[52 83 31 88 29]\n",
      "[[66 94 38]\n",
      " [73 69 60]\n",
      " [30 82 13]\n",
      " [78 13 15]\n",
      " [88 34 72]\n",
      " [64 47 55]\n",
      " [93 23 98]\n",
      " [78 10 47]\n",
      " [38 75 26]\n",
      " [18 44 16]]\n",
      "[[44 26 47]\n",
      " [30 15 97]\n",
      " [34 75 37]\n",
      " [31 41 90]\n",
      " [50 85 84]\n",
      " [26 44 40]\n",
      " [83 83 88]\n",
      " [16 82 68]\n",
      " [77 15 56]\n",
      " [80 14 88]]\n"
     ]
    }
   ],
   "source": [
    "print(x[0]) #first row\n",
    "\n",
    "print(x[-1])# last row\n",
    "print(x[:,0])# first column\n",
    "print(x[:,-1])# last column\n",
    "print(x[:5,1])#first 5 row of the second column\n",
    "\n",
    "print(x[-5:,3])#first 5 row of the fourth column\n",
    "print(x[:,:3])#first 3 column\n",
    "print(x[:,-3:])#last  3 column\n"
   ]
  },
  {
   "cell_type": "code",
   "execution_count": 36,
   "metadata": {},
   "outputs": [
    {
     "name": "stdout",
     "output_type": "stream",
     "text": [
      "(array([], dtype=int64), array([], dtype=int64))\n"
     ]
    }
   ],
   "source": [
    "#find index\n",
    "print(np.where(x==65))"
   ]
  },
  {
   "cell_type": "code",
   "execution_count": 37,
   "metadata": {},
   "outputs": [
    {
     "name": "stdout",
     "output_type": "stream",
     "text": [
      "0\n"
     ]
    }
   ],
   "source": [
    "#count\n",
    "print(np.count_nonzero(x==65))"
   ]
  },
  {
   "cell_type": "code",
   "execution_count": null,
   "metadata": {},
   "outputs": [],
   "source": []
  }
 ],
 "metadata": {
  "kernelspec": {
   "display_name": "Python 3",
   "language": "python",
   "name": "python3"
  },
  "language_info": {
   "codemirror_mode": {
    "name": "ipython",
    "version": 3
   },
   "file_extension": ".py",
   "mimetype": "text/x-python",
   "name": "python",
   "nbconvert_exporter": "python",
   "pygments_lexer": "ipython3",
   "version": "3.11.5"
  }
 },
 "nbformat": 4,
 "nbformat_minor": 2
}
