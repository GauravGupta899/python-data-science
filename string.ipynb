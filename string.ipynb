{
 "cells": [
  {
   "cell_type": "markdown",
   "metadata": {},
   "source": [
    "String  methods"
   ]
  },
  {
   "cell_type": "code",
   "execution_count": 1,
   "metadata": {},
   "outputs": [
    {
     "data": {
      "text/plain": [
       "'HELLO'"
      ]
     },
     "execution_count": 1,
     "metadata": {},
     "output_type": "execute_result"
    }
   ],
   "source": [
    "a ='hello'\n",
    "a.upper()"
   ]
  },
  {
   "cell_type": "code",
   "execution_count": 2,
   "metadata": {},
   "outputs": [
    {
     "name": "stdout",
     "output_type": "stream",
     "text": [
      "original:data science\n",
      "upper:DATA SCIENCE\n",
      "lower:data science\n",
      "captilize:Data science\n"
     ]
    }
   ],
   "source": [
    "word = 'data science'\n",
    "word1 = word.upper()\n",
    "word2 = word.lower()\n",
    "word3 = word.capitalize()\n",
    "print(f'original:{word}')\n",
    "print(f'upper:{word1}')\n",
    "print(f'lower:{word2}')\n",
    "print(f'captilize:{word3}')\n"
   ]
  },
  {
   "cell_type": "code",
   "execution_count": 3,
   "metadata": {},
   "outputs": [
    {
     "name": "stdout",
     "output_type": "stream",
     "text": [
      "5\n",
      "13\n",
      "-1\n"
     ]
    }
   ],
   "source": [
    "sentence = \"data science is the science of data\"\n",
    "print (sentence.find('science'))\n",
    "print (sentence.find('is'))\n",
    "print (sentence.find('science,6'))"
   ]
  },
  {
   "cell_type": "code",
   "execution_count": 6,
   "metadata": {},
   "outputs": [
    {
     "name": "stdout",
     "output_type": "stream",
     "text": [
      "12\n",
      "-1\n"
     ]
    }
   ],
   "source": [
    "sentence = 'The quick brown fox jump over the lazy dog'\n",
    "print(sentence.find('own'))\n",
    "print(sentence.find('red'))"
   ]
  },
  {
   "cell_type": "code",
   "execution_count": 8,
   "metadata": {},
   "outputs": [
    {
     "name": "stdout",
     "output_type": "stream",
     "text": [
      "The quick briwn fix jump iver the lazy dig\n",
      "The quick green fox jump over the lazy dog\n",
      "The quick brown goat kick over the lazy goat\n"
     ]
    }
   ],
   "source": [
    "print(sentence.replace('o','i'))\n",
    "print(sentence.replace('brown','green'))\n",
    "print(sentence.replace('fox','dog').replace('dog','goat').replace('jump','kick'))"
   ]
  },
  {
   "cell_type": "code",
   "execution_count": 9,
   "metadata": {},
   "outputs": [
    {
     "name": "stdout",
     "output_type": "stream",
     "text": [
      "2\n",
      "6\n",
      "0\n"
     ]
    }
   ],
   "source": [
    "story = \"once there was a king named Arthur, who was a great king\"\n",
    "print(story.count('king'))\n",
    "print(story.count('a'))\n",
    "print(story.count('queen'))"
   ]
  },
  {
   "cell_type": "code",
   "execution_count": 12,
   "metadata": {},
   "outputs": [
    {
     "name": "stdout",
     "output_type": "stream",
     "text": [
      "['once', 'there', 'was', 'a', 'king', 'named', 'Arthur,', 'who', 'was', 'a', 'great', 'king']\n",
      "['once there was a king named Arthur', ' who was a great king']\n"
     ]
    }
   ],
   "source": [
    "print(story.split())\n",
    "print(story.split(','))"
   ]
  },
  {
   "cell_type": "code",
   "execution_count": 13,
   "metadata": {},
   "outputs": [
    {
     "name": "stdout",
     "output_type": "stream",
     "text": [
      "['Johny johny Yes papa', 'Eating Sugar? No Papa', 'Telling  lies ? No Papa', 'Open your mouth Ha! Ha! Ha!']\n",
      "['Johny johny Yes ', '\\nEating Sugar? No Papa\\nTelling  lies ? No Papa\\nOpen your mouth Ha! Ha! Ha!']\n"
     ]
    }
   ],
   "source": [
    "poem = '''Johny johny ,Yes papa\n",
    "Eating Sugar? No Papa\n",
    "Telling  lies ? No Papa\n",
    "Open your mouth Ha! Ha! Ha!'''\n",
    "\n",
    "print(poem.splitlines())\n",
    "print(poem.split('papa'))\n"
   ]
  },
  {
   "cell_type": "code",
   "execution_count": 14,
   "metadata": {},
   "outputs": [
    {
     "name": "stdout",
     "output_type": "stream",
     "text": [
      "C/User/Admin/Desktop/Python/Python.txt\n",
      "C,User,Admin,Desktop,Python,Python.txt\n",
      "C🤦‍♂️User🤦‍♂️Admin🤦‍♂️Desktop🤦‍♂️Python🤦‍♂️Python.txt\n"
     ]
    }
   ],
   "source": [
    "pathlist = ['C','User','Admin','Desktop','Python','Python.txt']\n",
    "print('/'.join(pathlist))\n",
    "print(','.join(pathlist))\n",
    "print('🤦‍♂️'.join(pathlist))"
   ]
  },
  {
   "cell_type": "code",
   "execution_count": 15,
   "metadata": {},
   "outputs": [
    {
     "name": "stdout",
     "output_type": "stream",
     "text": [
      "total iteams = 29\n"
     ]
    }
   ],
   "source": [
    "import os \n",
    "content = os.listdir (\"c:/users/gaura/Downloads/\")\n",
    "print(f'total iteams = {len(content)}')"
   ]
  },
  {
   "cell_type": "code",
   "execution_count": 16,
   "metadata": {},
   "outputs": [
    {
     "name": "stdout",
     "output_type": "stream",
     "text": [
      "Anaconda3-2023.09-0-Windows-x86_64.exe\n",
      "android-studio-2022.3.1.20-windows.exe\n",
      "BlueStacksInstaller_5.13.220.1001_native_4b96c77553ebbd9883609290c919b3dc_MDs1LDM7MTUsMTsxNSw0OzE1.exe\n",
      "ChromeSetup.exe\n",
      "cpu-z_2.03-en.exe\n",
      "OperaGXSetup.exe\n",
      "VMware-workstation-full-17.5.0-22583795.exe\n",
      "VSCodeUserSetup-x64-1.86.0.exe\n",
      "win-g2010-1_2-n_mcd (1).exe\n",
      "win-g2010-1_2-n_mcd.exe\n"
     ]
    }
   ],
   "source": [
    "for items in content :\n",
    "    if items.endswith('exe'):\n",
    "        print(items)"
   ]
  },
  {
   "cell_type": "code",
   "execution_count": 30,
   "metadata": {},
   "outputs": [
    {
     "name": "stdout",
     "output_type": "stream",
     "text": [
      "CUETPGApplicationForm-243510206242.pdf\n",
      "sarita.pdf\n",
      "------------------------------\n",
      "total item = 2\n"
     ]
    }
   ],
   "source": [
    "total = 0 \n",
    "for item in content :\n",
    "    if item.endswith('.pdf'):\n",
    "\n",
    "        print(item)\n",
    "        total +=1\n",
    "print('---'*10)\n",
    "print(f'total item = {total}')        "
   ]
  },
  {
   "cell_type": "code",
   "execution_count": 28,
   "metadata": {},
   "outputs": [
    {
     "name": "stdout",
     "output_type": "stream",
     "text": [
      "------------------------------\n",
      "total item = 0\n"
     ]
    }
   ],
   "source": [
    "total = 0 \n",
    "for item in content :\n",
    "    if item.startswith('python'):\n",
    "\n",
    "        print(item)\n",
    "        total +=1\n",
    "print('---'*10)\n",
    "print(f'total item = {total}')   "
   ]
  },
  {
   "cell_type": "code",
   "execution_count": null,
   "metadata": {},
   "outputs": [],
   "source": []
  }
 ],
 "metadata": {
  "kernelspec": {
   "display_name": "Python 3",
   "language": "python",
   "name": "python3"
  },
  "language_info": {
   "codemirror_mode": {
    "name": "ipython",
    "version": 3
   },
   "file_extension": ".py",
   "mimetype": "text/x-python",
   "name": "python",
   "nbconvert_exporter": "python",
   "pygments_lexer": "ipython3",
   "version": "3.11.5"
  }
 },
 "nbformat": 4,
 "nbformat_minor": 2
}
