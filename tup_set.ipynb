{
 "cells": [
  {
   "cell_type": "code",
   "execution_count": 1,
   "metadata": {},
   "outputs": [
    {
     "name": "stdout",
     "output_type": "stream",
     "text": [
      "(2, 3, 4, 5)\n",
      "(2, 5, 7)\n"
     ]
    }
   ],
   "source": [
    "x = (2,3,4,5)\n",
    "print(x)\n",
    "\n",
    "y = 2,5,7 # tuple packing\n",
    "print(y)"
   ]
  },
  {
   "cell_type": "code",
   "execution_count": 3,
   "metadata": {},
   "outputs": [
    {
     "name": "stdout",
     "output_type": "stream",
     "text": [
      "2\n",
      "3\n",
      "4\n",
      "5\n"
     ]
    }
   ],
   "source": [
    "for i in x :\n",
    "    print(i)"
   ]
  },
  {
   "cell_type": "code",
   "execution_count": 5,
   "metadata": {},
   "outputs": [
    {
     "name": "stdout",
     "output_type": "stream",
     "text": [
      "2\n",
      "5\n"
     ]
    }
   ],
   "source": [
    "print(x[0])\n",
    "print(x[-1])\n"
   ]
  },
  {
   "cell_type": "code",
   "execution_count": 6,
   "metadata": {},
   "outputs": [
    {
     "name": "stdout",
     "output_type": "stream",
     "text": [
      "(1, 2, 3, 4, 5, 6, 7, 8, 9, 10)\n",
      "(1, 2, 3, 4, 5)\n",
      "(8, 9, 10)\n"
     ]
    }
   ],
   "source": [
    "a=1,2,3,4,5,6,7,8,9,10\n",
    "print(a)\n",
    "print(a[:5])#first five element\n",
    "print(a[-3:])#last three element"
   ]
  },
  {
   "cell_type": "code",
   "execution_count": 9,
   "metadata": {},
   "outputs": [
    {
     "name": "stdout",
     "output_type": "stream",
     "text": [
      "1\n",
      "0\n",
      "3\n",
      "5\n"
     ]
    }
   ],
   "source": [
    "# tuple has only two function\n",
    "\n",
    "print(a.count(1))\n",
    "print(a.count(11))\n",
    "print(a.index(4))\n",
    "print(a.index(6))"
   ]
  },
  {
   "cell_type": "markdown",
   "metadata": {},
   "source": [
    "SET----------------"
   ]
  },
  {
   "cell_type": "code",
   "execution_count": 10,
   "metadata": {},
   "outputs": [
    {
     "name": "stdout",
     "output_type": "stream",
     "text": [
      "{1, 2, 3, 4, 5, 6, 7, 8}\n",
      "{'apple', 'orange', 'cherry', 'banana', 'dragon fruit', 'custard apple'}\n"
     ]
    }
   ],
   "source": [
    "a ={1,2,3,4,5,6,7,8,1,2,3,3}\n",
    "print(a) # set will remove all duplicate\n",
    "b = {'apple','banana','orange','cherry','custard apple','dragon fruit'}\n",
    "print(b)"
   ]
  },
  {
   "cell_type": "code",
   "execution_count": 12,
   "metadata": {},
   "outputs": [
    {
     "name": "stdout",
     "output_type": "stream",
     "text": [
      "{'apple', 'orange', 'cherry', 'banana', 'dragon fruit', 'custard apple', 'mango', 'kiwi'}\n",
      "{'orange', 'cherry', 'banana', 'dragon fruit', 'custard apple', 'mango', 'kiwi'}\n"
     ]
    }
   ],
   "source": [
    "b.add('kiwi')\n",
    "b.add('mango')\n",
    "print(b)\n",
    "b.discard('apple')\n",
    "print(b)"
   ]
  },
  {
   "cell_type": "code",
   "execution_count": 13,
   "metadata": {},
   "outputs": [
    {
     "name": "stdout",
     "output_type": "stream",
     "text": [
      "{1, 2, 3, 4, 5, 6, 7, 8}\n",
      "{1, 2, 3, 4, 5, 6, 7, 8}\n",
      "{4, 5}\n",
      "{4, 5}\n",
      "{1, 2, 3}\n",
      "{1, 2, 3}\n",
      "{8, 6, 7}\n"
     ]
    }
   ],
   "source": [
    "# operation of set\n",
    "\n",
    "x = {1,2,3,4,5}\n",
    "y = {4,5,6,7,8}\n",
    "#union\n",
    "print(x|y)# join of x and y S remove duplicate\n",
    "print(x.union(y))\n",
    "#intersation\n",
    "print(x&y) # comman elements in x and y\n",
    "print(x.intersection(y))\n",
    "# different\n",
    "print(x-y)# element in x but not in y\n",
    "print(x.difference(y))\n",
    "print(y-x) # element in y but not in x"
   ]
  },
  {
   "cell_type": "code",
   "execution_count": 14,
   "metadata": {},
   "outputs": [
    {
     "name": "stdout",
     "output_type": "stream",
     "text": [
      "{1, 2, 3, 6, 7, 8}\n",
      "{1, 2, 3, 6, 7, 8}\n"
     ]
    }
   ],
   "source": [
    "# symetric difference\n",
    "print(x^y)\n",
    "print(x.symmetric_difference(y))"
   ]
  },
  {
   "cell_type": "code",
   "execution_count": 15,
   "metadata": {},
   "outputs": [
    {
     "name": "stdout",
     "output_type": "stream",
     "text": [
      "[1, 2, 3, 4, 5, 3, 2, 2, 2] <=list\n",
      "{1, 2, 3, 4, 5} <=set\n",
      "(1, 2, 3, 4, 5) <=tuple\n",
      "[1, 2, 3, 4, 5] <=list\n"
     ]
    }
   ],
   "source": [
    "#inter connection\n",
    "x= [1,2,3,4,5,3,2,2,2]\n",
    "print(x,\"<=list\")\n",
    "xs = set (x)\n",
    "print(xs,\"<=set\")\n",
    "xt = tuple(xs)\n",
    "print(xt,\"<=tuple\")\n",
    "xl = list(xt)\n",
    "print(xl,\"<=list\")\n"
   ]
  },
  {
   "cell_type": "code",
   "execution_count": null,
   "metadata": {},
   "outputs": [],
   "source": []
  }
 ],
 "metadata": {
  "kernelspec": {
   "display_name": "Python 3",
   "language": "python",
   "name": "python3"
  },
  "language_info": {
   "codemirror_mode": {
    "name": "ipython",
    "version": 3
   },
   "file_extension": ".py",
   "mimetype": "text/x-python",
   "name": "python",
   "nbconvert_exporter": "python",
   "pygments_lexer": "ipython3",
   "version": "3.11.5"
  }
 },
 "nbformat": 4,
 "nbformat_minor": 2
}
