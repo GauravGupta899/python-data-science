{
 "cells": [
  {
   "cell_type": "code",
   "execution_count": 7,
   "metadata": {},
   "outputs": [
    {
     "name": "stdout",
     "output_type": "stream",
     "text": [
      "hurray\n",
      "the end😊😊😊😊\n",
      "even\n"
     ]
    }
   ],
   "source": [
    "x = int(input('give the number:'))\n",
    "if x>= 10:\n",
    "    print(\"hurray\")\n",
    "print(\"the end😊😊😊😊\")\n",
    "if x % 2 == 0:\n",
    "    print(\"even\")"
   ]
  },
  {
   "cell_type": "code",
   "execution_count": 4,
   "metadata": {},
   "outputs": [
    {
     "name": "stdout",
     "output_type": "stream",
     "text": [
      "Expensive\n"
     ]
    }
   ],
   "source": [
    "price = 2300\n",
    "if price > 2000:\n",
    "    print(\"Expensive\")\n",
    "else:\n",
    "    print(\"we can buy it \")"
   ]
  },
  {
   "cell_type": "code",
   "execution_count": 11,
   "metadata": {},
   "outputs": [
    {
     "name": "stdout",
     "output_type": "stream",
     "text": [
      "567/600 = 94.50%\n",
      "Grade: A\n"
     ]
    }
   ],
   "source": [
    "marks = int(input(\"Enter your masks:\"))\n",
    "total = 600\n",
    "pct = marks/total*100\n",
    "print(f'{marks}/{total} = {pct:.2f}%')\n",
    "if pct >90:\n",
    "    grade = 'A'\n",
    "elif pct >=75:\n",
    "    grade = 'B'\n",
    "elif pct >=60:\n",
    "    grade = 'C'\n",
    "elif pct >=40:\n",
    "    grade = 'D'\n",
    "else:\n",
    "    grade ='F'\n",
    "print(f'Grade: {grade}')        \n",
    "\n"
   ]
  },
  {
   "cell_type": "code",
   "execution_count": 15,
   "metadata": {},
   "outputs": [
    {
     "name": "stdout",
     "output_type": "stream",
     "text": [
      "What is the capital of Bihar ?\n",
      "invalid answer\n"
     ]
    }
   ],
   "source": [
    "\n",
    "print(\"What is the capital of Bihar ?\")\n",
    "ans = input (\"your answer1:\")\n",
    "match ans:\n",
    "    case 'delhi':\n",
    "        print('incorrect')\n",
    "    case \"patna\"|\"Patna\":\n",
    "        print(\"correct\")  \n",
    "    case _:\n",
    "        print('invalid answer')  \n"
   ]
  },
  {
   "cell_type": "markdown",
   "metadata": {},
   "source": [
    "loops \n",
    "-iteration based for\n",
    "-Condition based while\n"
   ]
  },
  {
   "cell_type": "code",
   "execution_count": null,
   "metadata": {},
   "outputs": [],
   "source": []
  }
 ],
 "metadata": {
  "kernelspec": {
   "display_name": "Python 3",
   "language": "python",
   "name": "python3"
  },
  "language_info": {
   "codemirror_mode": {
    "name": "ipython",
    "version": 3
   },
   "file_extension": ".py",
   "mimetype": "text/x-python",
   "name": "python",
   "nbconvert_exporter": "python",
   "pygments_lexer": "ipython3",
   "version": "3.11.5"
  }
 },
 "nbformat": 4,
 "nbformat_minor": 2
}
