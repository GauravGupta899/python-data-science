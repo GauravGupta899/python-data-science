{
 "cells": [
  {
   "cell_type": "code",
   "execution_count": 7,
   "metadata": {},
   "outputs": [
    {
     "name": "stdout",
     "output_type": "stream",
     "text": [
      "hurray\n",
      "the end😊😊😊😊\n",
      "even\n"
     ]
    }
   ],
   "source": [
    "x = int(input('give the number:'))\n",
    "if x>= 10:\n",
    "    print(\"hurray\")\n",
    "print(\"the end😊😊😊😊\")\n",
    "if x % 2 == 0:\n",
    "    print(\"even\")"
   ]
  },
  {
   "cell_type": "code",
   "execution_count": 4,
   "metadata": {},
   "outputs": [
    {
     "name": "stdout",
     "output_type": "stream",
     "text": [
      "Expensive\n"
     ]
    }
   ],
   "source": [
    "price = 2300\n",
    "if price > 2000:\n",
    "    print(\"Expensive\")\n",
    "else:\n",
    "    print(\"we can buy it \")"
   ]
  },
  {
   "cell_type": "code",
   "execution_count": 11,
   "metadata": {},
   "outputs": [
    {
     "name": "stdout",
     "output_type": "stream",
     "text": [
      "567/600 = 94.50%\n",
      "Grade: A\n"
     ]
    }
   ],
   "source": [
    "marks = int(input(\"Enter your masks:\"))\n",
    "total = 600\n",
    "pct = marks/total*100\n",
    "print(f'{marks}/{total} = {pct:.2f}%')\n",
    "if pct >90:\n",
    "    grade = 'A'\n",
    "elif pct >=75:\n",
    "    grade = 'B'\n",
    "elif pct >=60:\n",
    "    grade = 'C'\n",
    "elif pct >=40:\n",
    "    grade = 'D'\n",
    "else:\n",
    "    grade ='F'\n",
    "print(f'Grade: {grade}')        \n",
    "\n"
   ]
  },
  {
   "cell_type": "code",
   "execution_count": 15,
   "metadata": {},
   "outputs": [
    {
     "name": "stdout",
     "output_type": "stream",
     "text": [
      "What is the capital of Bihar ?\n",
      "invalid answer\n"
     ]
    }
   ],
   "source": [
    "\n",
    "print(\"What is the capital of Bihar ?\")\n",
    "ans = input (\"your answer1:\")\n",
    "match ans:\n",
    "    case 'delhi':\n",
    "        print('incorrect')\n",
    "    case \"patna\"|\"Patna\":\n",
    "        print(\"correct\")  \n",
    "    case _:\n",
    "        print('invalid answer')  \n"
   ]
  },
  {
   "cell_type": "markdown",
   "metadata": {},
   "source": [
    "loops \n",
    "-iteration based for\n",
    "-Condition based while\n"
   ]
  },
  {
   "cell_type": "code",
   "execution_count": 1,
   "metadata": {},
   "outputs": [
    {
     "name": "stdout",
     "output_type": "stream",
     "text": [
      "The Godfather (1972)\n",
      "Inception (2010)\n",
      "Schindler's List (1993)\n",
      "Pulp Fiction (1994)\n",
      "The Shawshank Redemption (1994)\n",
      "The Dark Knight (2008)\n",
      "Forrest Gump (1994)\n",
      "The Matrix (1999)\n",
      "Casablanca (1942)\n",
      "Titanic (1997)\n",
      "The Silence of the Lambs (1991)\n",
      "The Lord of the Rings: The Fellowship of the Ring (2001)\n",
      "Fight Club (1999)\n",
      "Jurassic Park (1993)\n",
      "The Breakfast Club (1985)\n",
      "La La Land (2016)\n",
      "The Great Gatsby (2013)\n"
     ]
    }
   ],
   "source": [
    "movies =[\"The Godfather (1972)\",\n",
    "\"Inception (2010)\",\n",
    "\"Schindler's List (1993)\",\n",
    "\"Pulp Fiction (1994)\",\n",
    "\"The Shawshank Redemption (1994)\",\n",
    "\"The Dark Knight (2008)\",\n",
    "\"Forrest Gump (1994)\",\n",
    "\"The Matrix (1999)\",\n",
    "\"Casablanca (1942)\",\n",
    "\"Titanic (1997)\",\n",
    "\"The Silence of the Lambs (1991)\",\n",
    "\"The Lord of the Rings: The Fellowship of the Ring (2001)\",\n",
    "\"Fight Club (1999)\",\n",
    "\"Jurassic Park (1993)\",\n",
    "\"The Breakfast Club (1985)\",\n",
    "\"La La Land (2016)\",\n",
    "\"The Great Gatsby (2013)\"]\n",
    "\n",
    "for i in movies:\n",
    "    print(i)"
   ]
  },
  {
   "cell_type": "code",
   "execution_count": 2,
   "metadata": {},
   "outputs": [
    {
     "name": "stdout",
     "output_type": "stream",
     "text": [
      "12\n",
      "23\n",
      "34\n",
      "444\n"
     ]
    }
   ],
   "source": [
    "for i in [12,23,34,444]:\n",
    "    print(i)"
   ]
  },
  {
   "cell_type": "code",
   "execution_count": 5,
   "metadata": {},
   "outputs": [
    {
     "name": "stdout",
     "output_type": "stream",
     "text": [
      "10\n",
      "9\n",
      "8\n",
      "7\n",
      "6\n"
     ]
    }
   ],
   "source": [
    "for i in range (10,5,-1):\n",
    "    print(i)"
   ]
  },
  {
   "cell_type": "code",
   "execution_count": 6,
   "metadata": {},
   "outputs": [
    {
     "name": "stdout",
     "output_type": "stream",
     "text": [
      "1\n",
      "3\n",
      "5\n",
      "7\n",
      "9\n",
      "11\n",
      "13\n",
      "15\n",
      "17\n",
      "19\n"
     ]
    }
   ],
   "source": [
    "for i in range (1,20,2):\n",
    "    print(i)"
   ]
  },
  {
   "cell_type": "code",
   "execution_count": 10,
   "metadata": {},
   "outputs": [
    {
     "name": "stdout",
     "output_type": "stream",
     "text": [
      "The Godfather (1972)\n",
      "The Shawshank Redemption (1994)\n",
      "The Dark Knight (2008)\n",
      "The Matrix (1999)\n",
      "The Silence of the Lambs (1991)\n",
      "The Lord of the Rings: The Fellowship of the Ring (2001)\n",
      "The Breakfast Club (1985)\n",
      "The Great Gatsby (2013)\n"
     ]
    }
   ],
   "source": [
    "for name in movies:\n",
    "    if \"the \" in name or \"The\" in name:\n",
    "        print(name)"
   ]
  },
  {
   "cell_type": "code",
   "execution_count": 12,
   "metadata": {},
   "outputs": [
    {
     "name": "stdout",
     "output_type": "stream",
     "text": [
      "27\n"
     ]
    }
   ],
   "source": [
    "x = [2,3,4,5,6,7]\n",
    "total=0\n",
    "for i in x:\n",
    "    total += i\n",
    "print(total)"
   ]
  },
  {
   "cell_type": "code",
   "execution_count": 13,
   "metadata": {},
   "outputs": [
    {
     "data": {
      "text/plain": [
       "27"
      ]
     },
     "execution_count": 13,
     "metadata": {},
     "output_type": "execute_result"
    }
   ],
   "source": [
    "sum(x)"
   ]
  },
  {
   "cell_type": "code",
   "execution_count": 14,
   "metadata": {},
   "outputs": [
    {
     "data": {
      "text/plain": [
       "6"
      ]
     },
     "execution_count": 14,
     "metadata": {},
     "output_type": "execute_result"
    }
   ],
   "source": [
    "len(x)"
   ]
  },
  {
   "cell_type": "code",
   "execution_count": 26,
   "metadata": {},
   "outputs": [
    {
     "name": "stdout",
     "output_type": "stream",
     "text": [
      "1 1\n",
      "2 2\n",
      "3 6\n",
      "4 24\n",
      "5 120\n",
      "6 720\n",
      "7 5040\n",
      "8 40320\n",
      "9 362880\n",
      "10 3628800\n"
     ]
    }
   ],
   "source": [
    "n =10\n",
    "fact =1\n",
    "for i in range(1, n+1):\n",
    "    fact*=i\n",
    "    print(i,fact)"
   ]
  },
  {
   "cell_type": "code",
   "execution_count": 27,
   "metadata": {},
   "outputs": [
    {
     "name": "stdout",
     "output_type": "stream",
     "text": [
      "10 3628800\n"
     ]
    }
   ],
   "source": [
    "n =10\n",
    "fact =1\n",
    "for i in range(1, n+1):\n",
    "    fact*=i\n",
    "print(i,fact)"
   ]
  },
  {
   "cell_type": "code",
   "execution_count": 29,
   "metadata": {},
   "outputs": [
    {
     "name": "stdout",
     "output_type": "stream",
     "text": [
      "1\n",
      "2\n",
      "3\n",
      "4\n",
      "5\n",
      "6\n",
      "7\n",
      "8\n",
      "9\n"
     ]
    }
   ],
   "source": [
    "a = 1\n",
    "while a < 10:\n",
    "    print(a)\n",
    "    a+= 1"
   ]
  },
  {
   "cell_type": "code",
   "execution_count": 30,
   "metadata": {},
   "outputs": [
    {
     "name": "stdout",
     "output_type": "stream",
     "text": [
      "invalid  input\n",
      "invalid  input\n",
      "very good\n"
     ]
    }
   ],
   "source": [
    "while True :\n",
    "    x = input('Enter a number:')\n",
    "    if x.isnumeric():\n",
    "        print('very good')\n",
    "        break\n",
    "    else:\n",
    "        print('invalid  input')\n"
   ]
  },
  {
   "cell_type": "code",
   "execution_count": null,
   "metadata": {},
   "outputs": [],
   "source": []
  }
 ],
 "metadata": {
  "kernelspec": {
   "display_name": "Python 3",
   "language": "python",
   "name": "python3"
  },
  "language_info": {
   "codemirror_mode": {
    "name": "ipython",
    "version": 3
   },
   "file_extension": ".py",
   "mimetype": "text/x-python",
   "name": "python",
   "nbconvert_exporter": "python",
   "pygments_lexer": "ipython3",
   "version": "3.11.5"
  }
 },
 "nbformat": 4,
 "nbformat_minor": 2
}
