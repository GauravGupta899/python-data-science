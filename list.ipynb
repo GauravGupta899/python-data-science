{
 "cells": [
  {
   "cell_type": "code",
   "execution_count": 1,
   "metadata": {},
   "outputs": [],
   "source": [
    "list1 =['ravi','teja','ramna']\n",
    "list2 =[1,2,4,5,6,7]\n",
    "list3 =[1,2,3,'sonam',33,44]"
   ]
  },
  {
   "cell_type": "code",
   "execution_count": 2,
   "metadata": {},
   "outputs": [],
   "source": [
    "data =['Warbreker','High fantasy','2015','tor','890']"
   ]
  },
  {
   "cell_type": "code",
   "execution_count": 3,
   "metadata": {},
   "outputs": [
    {
     "name": "stdout",
     "output_type": "stream",
     "text": [
      "Warbreker\n",
      "High fantasy\n",
      "2015\n",
      "tor\n",
      "890\n"
     ]
    }
   ],
   "source": [
    "for item in data:\n",
    "    print(item)"
   ]
  },
  {
   "cell_type": "code",
   "execution_count": 5,
   "metadata": {},
   "outputs": [
    {
     "name": "stdout",
     "output_type": "stream",
     "text": [
      "Warbreker\n",
      "890\n",
      "['Warbreker', 'High fantasy', '2015']\n",
      "['2015', 'tor', '890']\n"
     ]
    }
   ],
   "source": [
    "print(data[0])\n",
    "print(data[-1])\n",
    "print(data[:3])\n",
    "print(data[-3:])"
   ]
  },
  {
   "cell_type": "code",
   "execution_count": 6,
   "metadata": {},
   "outputs": [
    {
     "name": "stdout",
     "output_type": "stream",
     "text": [
      "['890', 'tor', '2015', 'High fantasy', 'Warbreker']\n"
     ]
    }
   ],
   "source": [
    "print(data[::-1])"
   ]
  },
  {
   "cell_type": "code",
   "execution_count": 7,
   "metadata": {},
   "outputs": [
    {
     "name": "stdout",
     "output_type": "stream",
     "text": [
      "['Warbreker', '2015', '890']\n"
     ]
    }
   ],
   "source": [
    "print(data[::2])"
   ]
  },
  {
   "cell_type": "code",
   "execution_count": 8,
   "metadata": {},
   "outputs": [
    {
     "name": "stdout",
     "output_type": "stream",
     "text": [
      "['Warbreker', 'High fantasy', '2015', 'tor', '890']\n"
     ]
    }
   ],
   "source": [
    "print(data[::1])"
   ]
  },
  {
   "cell_type": "code",
   "execution_count": 10,
   "metadata": {},
   "outputs": [
    {
     "name": "stdout",
     "output_type": "stream",
     "text": [
      "['High fantasy', '2015', 'tor', '890']\n"
     ]
    },
    {
     "data": {
      "text/plain": [
       "[None]"
      ]
     },
     "execution_count": 10,
     "metadata": {},
     "output_type": "execute_result"
    }
   ],
   "source": [
    "[print(data[1::])]"
   ]
  },
  {
   "cell_type": "code",
   "execution_count": 11,
   "metadata": {},
   "outputs": [
    {
     "name": "stdout",
     "output_type": "stream",
     "text": [
      "['2015', '890', 'High fantasy', 'Warbreker', 'tor']\n"
     ]
    }
   ],
   "source": [
    "data.sort()\n",
    "print(data)"
   ]
  },
  {
   "cell_type": "code",
   "execution_count": 12,
   "metadata": {},
   "outputs": [
    {
     "name": "stdout",
     "output_type": "stream",
     "text": [
      "['tor', 'Warbreker', 'High fantasy', '890', '2015']\n"
     ]
    }
   ],
   "source": [
    "data.sort(reverse=True)\n",
    "print(data)"
   ]
  },
  {
   "cell_type": "code",
   "execution_count": 14,
   "metadata": {},
   "outputs": [
    {
     "name": "stdout",
     "output_type": "stream",
     "text": [
      "['tor', 'Warbreker', 'High fantasy', '890', '2015']\n"
     ]
    }
   ],
   "source": [
    "data.reverse()\n",
    "print(data)"
   ]
  },
  {
   "cell_type": "code",
   "execution_count": 15,
   "metadata": {},
   "outputs": [
    {
     "data": {
      "text/plain": [
       "0"
      ]
     },
     "execution_count": 15,
     "metadata": {},
     "output_type": "execute_result"
    }
   ],
   "source": [
    "data.index('tor')"
   ]
  },
  {
   "cell_type": "code",
   "execution_count": 16,
   "metadata": {},
   "outputs": [
    {
     "data": {
      "text/plain": [
       "3"
      ]
     },
     "execution_count": 16,
     "metadata": {},
     "output_type": "execute_result"
    }
   ],
   "source": [
    "data.index('890')"
   ]
  },
  {
   "cell_type": "code",
   "execution_count": 17,
   "metadata": {},
   "outputs": [
    {
     "data": {
      "text/plain": [
       "'890'"
      ]
     },
     "execution_count": 17,
     "metadata": {},
     "output_type": "execute_result"
    }
   ],
   "source": [
    "data[3]"
   ]
  },
  {
   "cell_type": "code",
   "execution_count": 18,
   "metadata": {},
   "outputs": [
    {
     "data": {
      "text/plain": [
       "['Apple',\n",
       " 'Banana',\n",
       " 'Orange',\n",
       " 'Mango',\n",
       " 'Strawberry',\n",
       " 'Grapes',\n",
       " 'Pineapple',\n",
       " 'Watermelon',\n",
       " 'Kiwi',\n",
       " 'Blueberry',\n",
       " 'Raspberry',\n",
       " 'Peach',\n",
       " 'Plum',\n",
       " 'Cherry',\n",
       " 'Pear',\n",
       " 'Avocado',\n",
       " 'Papaya',\n",
       " 'Pomegranate',\n",
       " 'Grapefruit',\n",
       " 'Lemon',\n",
       " 'Lime',\n",
       " 'Cantaloupe',\n",
       " 'Cranberry',\n",
       " 'Apricot',\n",
       " 'Passion fruit']"
      ]
     },
     "execution_count": 18,
     "metadata": {},
     "output_type": "execute_result"
    }
   ],
   "source": [
    "fruits = [\n",
    "    \"Apple\",\n",
    "    \"Banana\",\n",
    "    \"Orange\",\n",
    "    \"Mango\",\n",
    "    \"Strawberry\",\n",
    "    \"Grapes\",\n",
    "    \"Pineapple\",\n",
    "    \"Watermelon\",\n",
    "    \"Kiwi\",\n",
    "    \"Blueberry\",\n",
    "    \"Raspberry\",\n",
    "    \"Peach\",\n",
    "    \"Plum\",\n",
    "    \"Cherry\",\n",
    "    \"Pear\",\n",
    "    \"Avocado\",\n",
    "    \"Papaya\",\n",
    "    \"Pomegranate\",\n",
    "    \"Grapefruit\",\n",
    "    \"Lemon\",\n",
    "    \"Lime\",\n",
    "    \"Cantaloupe\",\n",
    "    \"Cranberry\",\n",
    "    \"Apricot\",\n",
    "    \"Passion fruit\"\n",
    "]\n",
    "fruits\n"
   ]
  },
  {
   "cell_type": "code",
   "execution_count": 19,
   "metadata": {},
   "outputs": [
    {
     "name": "stdout",
     "output_type": "stream",
     "text": [
      "['Apple', 'orange', 'Banana', 'Orange', 'Mango', 'Strawberry', 'Grapes', 'Pineapple', 'Watermelon', 'Kiwi', 'Blueberry', 'Raspberry', 'Peach', 'Plum', 'Cherry', 'Pear', 'Avocado', 'Papaya', 'Pomegranate', 'Grapefruit', 'Lemon', 'Lime', 'Cantaloupe', 'Cranberry', 'Apricot', 'Passion fruit']\n"
     ]
    }
   ],
   "source": [
    "fruits.insert(1,'orange')\n",
    "print(fruits)"
   ]
  },
  {
   "cell_type": "code",
   "execution_count": 20,
   "metadata": {},
   "outputs": [
    {
     "data": {
      "text/plain": [
       "['Apple',\n",
       " 'orange',\n",
       " 'Banana',\n",
       " 'Orange',\n",
       " 'Mango',\n",
       " 'Strawberry',\n",
       " 'Grapes',\n",
       " 'Pineapple',\n",
       " 'Watermelon',\n",
       " 'Kiwi',\n",
       " 'Blueberry',\n",
       " 'Raspberry',\n",
       " 'Peach',\n",
       " 'Plum',\n",
       " 'Cherry',\n",
       " 'Pear',\n",
       " 'Avocado',\n",
       " 'Papaya',\n",
       " 'Pomegranate',\n",
       " 'Grapefruit',\n",
       " 'Lemon',\n",
       " 'Lime',\n",
       " 'Cantaloupe',\n",
       " 'Cranberry',\n",
       " 'Apricot',\n",
       " 'Passion fruit',\n",
       " 'Almond',\n",
       " 'cashew',\n",
       " 'walnut']"
      ]
     },
     "execution_count": 20,
     "metadata": {},
     "output_type": "execute_result"
    }
   ],
   "source": [
    "dry_fruits =['Almond','cashew','walnut']\n",
    "fruits.extend(dry_fruits)\n",
    "fruits"
   ]
  },
  {
   "cell_type": "code",
   "execution_count": 29,
   "metadata": {},
   "outputs": [
    {
     "data": {
      "text/plain": [
       "['orange',\n",
       " 'Banana',\n",
       " 'Orange',\n",
       " 'Mango',\n",
       " 'Strawberry',\n",
       " 'Grapes',\n",
       " 'Pineapple',\n",
       " 'Watermelon',\n",
       " 'Kiwi',\n",
       " 'Blueberry',\n",
       " 'Raspberry',\n",
       " 'Peach',\n",
       " 'Plum',\n",
       " 'Cherry',\n",
       " 'Avocado',\n",
       " 'Papaya',\n",
       " 'Pomegranate',\n",
       " 'Grapefruit',\n",
       " 'Lemon',\n",
       " 'Lime',\n",
       " 'Cantaloupe',\n",
       " 'Cranberry',\n",
       " 'Apricot',\n",
       " 'Passion fruit',\n",
       " 'Almond',\n",
       " 'cashew',\n",
       " 'walnut']"
      ]
     },
     "execution_count": 29,
     "metadata": {},
     "output_type": "execute_result"
    }
   ],
   "source": [
    "fruits.remove('Pear')\n",
    "fruits"
   ]
  },
  {
   "cell_type": "code",
   "execution_count": 30,
   "metadata": {},
   "outputs": [
    {
     "data": {
      "text/plain": [
       "['orange',\n",
       " 'Banana',\n",
       " 'Orange',\n",
       " 'Mango',\n",
       " 'Strawberry',\n",
       " 'Grapes',\n",
       " 'Pineapple',\n",
       " 'Watermelon',\n",
       " 'Kiwi',\n",
       " 'Blueberry',\n",
       " 'Raspberry',\n",
       " 'Peach',\n",
       " 'Plum',\n",
       " 'Cherry',\n",
       " 'Avocado',\n",
       " 'Papaya',\n",
       " 'Pomegranate',\n",
       " 'Grapefruit',\n",
       " 'Lemon',\n",
       " 'Lime',\n",
       " 'Cantaloupe',\n",
       " 'Cranberry',\n",
       " 'Apricot',\n",
       " 'Passion fruit',\n",
       " 'Almond',\n",
       " 'cashew']"
      ]
     },
     "execution_count": 30,
     "metadata": {},
     "output_type": "execute_result"
    }
   ],
   "source": [
    "fruits.pop()\n",
    "fruits"
   ]
  },
  {
   "cell_type": "code",
   "execution_count": 32,
   "metadata": {},
   "outputs": [
    {
     "data": {
      "text/plain": [
       "['orange',\n",
       " 'Banana',\n",
       " 'Mango',\n",
       " 'Strawberry',\n",
       " 'Grapes',\n",
       " 'Pineapple',\n",
       " 'Watermelon',\n",
       " 'Kiwi',\n",
       " 'Blueberry',\n",
       " 'Raspberry',\n",
       " 'Peach',\n",
       " 'Plum',\n",
       " 'Cherry',\n",
       " 'Avocado',\n",
       " 'Papaya',\n",
       " 'Pomegranate',\n",
       " 'Grapefruit',\n",
       " 'Lemon',\n",
       " 'Lime',\n",
       " 'Cantaloupe',\n",
       " 'Cranberry',\n",
       " 'Apricot',\n",
       " 'Passion fruit',\n",
       " 'Almond',\n",
       " 'cashew']"
      ]
     },
     "execution_count": 32,
     "metadata": {},
     "output_type": "execute_result"
    }
   ],
   "source": [
    "fruits.pop(2)\n",
    "fruits"
   ]
  },
  {
   "cell_type": "code",
   "execution_count": null,
   "metadata": {},
   "outputs": [],
   "source": []
  }
 ],
 "metadata": {
  "kernelspec": {
   "display_name": "Python 3",
   "language": "python",
   "name": "python3"
  },
  "language_info": {
   "codemirror_mode": {
    "name": "ipython",
    "version": 3
   },
   "file_extension": ".py",
   "mimetype": "text/x-python",
   "name": "python",
   "nbconvert_exporter": "python",
   "pygments_lexer": "ipython3",
   "version": "3.11.5"
  }
 },
 "nbformat": 4,
 "nbformat_minor": 2
}
