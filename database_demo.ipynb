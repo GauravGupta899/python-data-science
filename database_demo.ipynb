{
 "cells": [
  {
   "cell_type": "code",
   "execution_count": 1,
   "metadata": {},
   "outputs": [],
   "source": [
    "from database import User, Message , Imageupload,Post\n",
    "from database import get_db, save_to_db"
   ]
  },
  {
   "cell_type": "markdown",
   "metadata": {},
   "source": []
  },
  {
   "cell_type": "markdown",
   "metadata": {},
   "source": [
    "adding some data to users and message"
   ]
  },
  {
   "cell_type": "code",
   "execution_count": 3,
   "metadata": {},
   "outputs": [
    {
     "name": "stdout",
     "output_type": "stream",
     "text": [
      "<database.User object at 0x000002408FEEE5D0> <database.User object at 0x000002408FEEE710> <database.User object at 0x000002408FEF8150> <database.User object at 0x000002408FEF8450> <database.User object at 0x000002408FEF84D0>\n"
     ]
    }
   ],
   "source": [
    "u1 = User(name = 'alex',email= 'alex@gmail.com',password='12345')\n",
    "u2 = User(name = 'alen',email= 'alen@gmail.com',password='1245')\n",
    "u3 = User(name = 'alankar',email= 'alankar@gmail.com',password='123453')\n",
    "u4 = User(name = 'aarti',email= 'aarti@gmail.com',password='125')\n",
    "u5 = User(name = 'shantanu',email= 'shantanu@gmail.com',password='111')\n",
    "print(u1,u2,u3,u4,u5)"
   ]
  },
  {
   "cell_type": "code",
   "execution_count": null,
   "metadata": {},
   "outputs": [],
   "source": [
    "save_to_db(u1)\n",
    "save_to_db(u2)\n",
    "save_to_db(u3)\n",
    "save_to_db(u4)\n",
    "save_to_db(u5)"
   ]
  },
  {
   "cell_type": "code",
   "execution_count": 7,
   "metadata": {},
   "outputs": [
    {
     "name": "stdout",
     "output_type": "stream",
     "text": [
      "<database.Message object at 0x000001F6FFC24E50> <database.Message object at 0x000001F6FFC26650> <database.Message object at 0x000001F6FFC26690> <database.Message object at 0x000001F6FFC25510> <database.Message object at 0x000001F6FFC25310>\n"
     ]
    }
   ],
   "source": [
    "m1 = Message(user_id = \"1\", message=\"hello\")\n",
    "m2 = Message(user_id = \"2\", message=\"hey , iam gaurav\")\n",
    "m3 = Message(user_id = \"3\", message=\"by\")\n",
    "m4 = Message(user_id = \"4\", message=\"good\")\n",
    "m5 = Message(user_id = \"5\", message=\"verygood\")\n",
    "print(m1,m2,m3,m4,m5)"
   ]
  },
  {
   "cell_type": "code",
   "execution_count": 8,
   "metadata": {},
   "outputs": [],
   "source": [
    "save_to_db(m1)\n",
    "save_to_db(m2)\n",
    "save_to_db(m3)\n",
    "save_to_db(m4)\n",
    "save_to_db(m5)"
   ]
  },
  {
   "cell_type": "markdown",
   "metadata": {},
   "source": [
    "retriving data from user and message "
   ]
  },
  {
   "cell_type": "code",
   "execution_count": 5,
   "metadata": {},
   "outputs": [
    {
     "name": "stdout",
     "output_type": "stream",
     "text": [
      "1\n",
      "alex\n",
      "alex@gmail.com\n",
      "12345\n",
      "2024-04-04 13:04:44.706308\n"
     ]
    },
    {
     "name": "stderr",
     "output_type": "stream",
     "text": [
      "C:\\Users\\gaura\\AppData\\Local\\Temp\\ipykernel_20992\\4036316230.py:4: LegacyAPIWarning: The Query.get() method is considered legacy as of the 1.x series of SQLAlchemy and becomes a legacy construct in 2.0. The method is now available as Session.get() (deprecated since: 2.0) (Background on SQLAlchemy 2.0 at: https://sqlalche.me/e/b8d9)\n",
      "  user = db.query(User).get(uid)\n"
     ]
    }
   ],
   "source": [
    "db = get_db() #open database\n",
    "# get user  by id \n",
    "uid = 1\n",
    "user = db.query(User).get(uid)\n",
    "print(user.id)\n",
    "print(user.name)\n",
    "print(user.email)\n",
    "print(user.password)\n",
    "print(user.created_at)\n",
    "db.close() # close the database\n"
   ]
  },
  {
   "cell_type": "code",
   "execution_count": 6,
   "metadata": {},
   "outputs": [
    {
     "name": "stdout",
     "output_type": "stream",
     "text": [
      "1 alex alex@gmail.com\n",
      "2 alen alen@gmail.com\n",
      "3 alankar alankar@gmail.com\n",
      "4 aarti aarti@gmail.com\n",
      "5 shantanu shantanu@gmail.com\n"
     ]
    }
   ],
   "source": [
    "# select  * from a table \n",
    "db = get_db()\n",
    "users = db.query (User).all()\n",
    "for user in users:\n",
    "    print(user.id,user.name,user.email)\n",
    "db.close()    \n"
   ]
  },
  {
   "cell_type": "code",
   "execution_count": 7,
   "metadata": {},
   "outputs": [
    {
     "name": "stderr",
     "output_type": "stream",
     "text": [
      "C:\\Users\\gaura\\AppData\\Local\\Temp\\ipykernel_20992\\1692020829.py:3: LegacyAPIWarning: The Query.get() method is considered legacy as of the 1.x series of SQLAlchemy and becomes a legacy construct in 2.0. The method is now available as Session.get() (deprecated since: 2.0) (Background on SQLAlchemy 2.0 at: https://sqlalche.me/e/b8d9)\n",
      "  user = db.query(User).get(uid)\n"
     ]
    }
   ],
   "source": [
    "db = get_db()\n",
    "uid = 3\n",
    "user = db.query(User).get(uid)\n",
    "if user:\n",
    "    db.delete(user)\n",
    "    db.commit()\n",
    "db.close()    "
   ]
  },
  {
   "cell_type": "code",
   "execution_count": 11,
   "metadata": {},
   "outputs": [
    {
     "name": "stdout",
     "output_type": "stream",
     "text": [
      "name: alex\n",
      "email: alex@gmail.com\n",
      "name: alen\n",
      "email: alen@gmail.com\n",
      "name: aarti\n",
      "email: aarti@gmail.com\n",
      "name: shantanu\n",
      "email: shantanu@gmail.com\n"
     ]
    }
   ],
   "source": [
    "# loading data from table\n",
    "db = get_db()\n",
    "users = db.query(User).all()\n",
    "for user in users:\n",
    "    print('name:',user.name)\n",
    "    print(\"email:\",user.email)\n",
    "    \n",
    "    \n",
    "db.close()    "
   ]
  },
  {
   "cell_type": "code",
   "execution_count": null,
   "metadata": {},
   "outputs": [],
   "source": []
  }
 ],
 "metadata": {
  "kernelspec": {
   "display_name": "base",
   "language": "python",
   "name": "python3"
  },
  "language_info": {
   "codemirror_mode": {
    "name": "ipython",
    "version": 3
   },
   "file_extension": ".py",
   "mimetype": "text/x-python",
   "name": "python",
   "nbconvert_exporter": "python",
   "pygments_lexer": "ipython3",
   "version": "3.11.5"
  }
 },
 "nbformat": 4,
 "nbformat_minor": 2
}
